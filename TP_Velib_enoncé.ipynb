{
 "cells": [
  {
   "cell_type": "markdown",
   "metadata": {},
   "source": [
    "# Machine Learning with Python"
   ]
  },
  {
   "cell_type": "markdown",
   "metadata": {},
   "source": [
    "## Exemple : Location de vélos"
   ]
  },
  {
   "cell_type": "markdown",
   "metadata": {},
   "source": [
    "#### **Overview**\n",
    "\n",
    "Bike sharing systems are a means of renting bicycles where the process of obtaining membership, rental, and bike return is automated via a network of kiosk locations throughout a city. Using these systems, people are able rent a bike from a one location and return it to a different place on an as-needed basis. Currently, there are over 500 bike-sharing programs around the world.\n",
    "\n",
    "#### **Data Fields**\n",
    "\n",
    "* **datetime** : hourly date + timestamp  \n",
    "* **season** : 1 = spring, 2 = summer, 3 = fall, 4 = winter \n",
    "* **holiday** : whether the day is considered a holiday\n",
    "* **workingday** : whether the day is neither a weekend nor holiday\n",
    "* **weather** : \n",
    "    * 1: Clear, Few clouds, Partly cloudy, Partly cloudy\n",
    "    * 2: Mist + Cloudy, Mist + Broken clouds, Mist + Few clouds, Mist\n",
    "    * 3: Light Snow, Light Rain + Thunderstorm + Scattered clouds, Light Rain + Scattered clouds\n",
    "    * 4: Heavy Rain + Ice Pallets + Thunderstorm + Mist, Snow + Fog \n",
    "* **temp** : temperature in Celsius\n",
    "* **atemp** : \"feels like\" temperature in Celsius\n",
    "* **humidity** : relative humidity\n",
    "* **windspeed** : wind speed\n",
    "* **casual** : number of non-registered user rentals initiated\n",
    "* **registered** : number of registered user rentals initiated\n",
    "* **count** : number of total rentals (Dependent Variable)"
   ]
  },
  {
   "cell_type": "code",
   "execution_count": 1,
   "metadata": {},
   "outputs": [],
   "source": [
    "import pylab\n",
    "import calendar\n",
    "import numpy as np\n",
    "import pandas as pd\n",
    "import seaborn as sn\n",
    "from scipy import stats\n",
    "from datetime import datetime\n",
    "import matplotlib.pyplot as plt\n",
    "import warnings\n",
    "pd.options.mode.chained_assignment = None\n",
    "warnings.filterwarnings(\"ignore\", category=DeprecationWarning)\n",
    "%matplotlib inline"
   ]
  },
  {
   "cell_type": "markdown",
   "metadata": {},
   "source": [
    "### Déroulé des questions : "
   ]
  },
  {
   "cell_type": "markdown",
   "metadata": {},
   "source": [
    "**Partie 1 exploration et visualisation des données**\n",
    "1. Lire le dataset vlib.csv et décrire rapidement le dataset (nombre de ligne, colonne, types des variables)\n",
    "2. Etudier les types des données, peux-t-on trouver un schéma de donner plus judicieux \n",
    "3. Etudier la variable datetime, quelles features peut-t-on créer/extraire avec cette variable ? Créer ces variables\n",
    "4. Changer la structure des données pour que les variables qui sont catégorielles soient considérés comme tels\n",
    "5. Catégoriser les outliers de la population du label ==> Proposer un petit script pour retirer les outliers de la population (hors de la limite [-3*std , + 3* std]. Combien d'outliers à-t-on filtré ?\n",
    "6. Etudier les corrélations entre les différentes variables grâce à la fonction, Quelles variables sont très corrélées ? Visualiser ces corrélations grâce à la fonction heatmap de seaborn.\n",
    "7. Visualisation des données : Peut-on visualiser la distribution du nombre de vélos loués par jour en fonction de l'heure de la journée, quels sont les pics ? Vérifier que les gens louent plus de vélos en été.\n",
    "\n",
    "Bonus : Quelle est la différence au niveau des distributions de registered et de casual ?\n",
    "\n",
    "Indice sur amélioration : La colonne windspeed ? Quels remarque pouvons nous faire ? Quelle technique pouvons nous employer pour corriger les données ? \n",
    "\n",
    "** Partie 2 modélisation**\n",
    "\n",
    "1. Verifier votre dataset et si besoin, créer de nouvelles features, verifier leur type et supprimer les variables inutiles. \n",
    "2. Randomiser les données et séparer le jeu de données. Verifier la taille de vos 2 sous ensembles train / test.\n",
    "3. Tester un premier modèle simple : la régression linéaire. Choisissez votre metrique et analyser les résultats. Faire un graphe. **BONUS** : Utiliser la librarie statsmodels et afficher un summary de la régression.\n",
    "4. Choisir les modèles à tester. Effectuer un GridSearch et une cross-validation (avec K=5) pour chacun des modèles choisi. Afficher les meilleurs paramètres pour chacun des modèles ainsi que les résultats sur le sous ensemble train. \n",
    "5. Conclure. Identifier le meilleur modèle et ré-entrainer le modèle avec ses paramètres optimaux. Afficher les résultats sur le sous ensemble de test."
   ]
  },
  {
   "cell_type": "markdown",
   "metadata": {},
   "source": [
    "## Partie 1 : Visualisation et feature engineering"
   ]
  },
  {
   "cell_type": "markdown",
   "metadata": {},
   "source": [
    "This notebook explains how we can go about explore and prepare data for model building.The notebook is structured in the following way \n",
    "\n",
    " - About Dataset\n",
    " - Data Summary\n",
    " - Feature Engineering\n",
    " - Missing Value Analysis\n",
    " - Outlier Analysis\n",
    " - Correlation Analysis\n",
    " - Visualizing Distribution Of Data\n",
    " - Visualizing Count Vs (Month,Season,Hour,Weekday,Usertype)\n",
    " - Filling 0's In Windspeed Using Random Forest\n",
    " - Linear Regression Model\n",
    " - Regularization Models\n",
    " - Ensemble Models"
   ]
  },
  {
   "cell_type": "markdown",
   "metadata": {},
   "source": [
    "### Question 1\n",
    "Lire le dataset vlib.csv et décrire rapidement le dataset (nombre de ligne, colonne, types des variables)"
   ]
  },
  {
   "cell_type": "code",
   "execution_count": null,
   "metadata": {
    "collapsed": true,
    "jupyter": {
     "outputs_hidden": true
    }
   },
   "outputs": [],
   "source": []
  },
  {
   "cell_type": "markdown",
   "metadata": {},
   "source": [
    "### Question 2 :\n",
    "Etudier les types des données, peux-t-on trouver un schéma de donner plus judicieux ? Si oui transformer le dataset en prenant en compte les nouveaux types de features."
   ]
  },
  {
   "cell_type": "code",
   "execution_count": null,
   "metadata": {
    "collapsed": true,
    "jupyter": {
     "outputs_hidden": true
    }
   },
   "outputs": [],
   "source": []
  },
  {
   "cell_type": "markdown",
   "metadata": {},
   "source": [
    "### Question 3 :\n",
    "Etudier la variable datetime, quelles features peut-t-on créer/extraire avec cette variable ? Créer ces variables"
   ]
  },
  {
   "cell_type": "code",
   "execution_count": null,
   "metadata": {
    "collapsed": true,
    "jupyter": {
     "outputs_hidden": true
    }
   },
   "outputs": [],
   "source": []
  },
  {
   "cell_type": "markdown",
   "metadata": {},
   "source": [
    "### Question 4 :\n",
    "Transformer les variables qui devraient être catégorielles en variables catégorielles en utilisations pandas"
   ]
  },
  {
   "cell_type": "code",
   "execution_count": null,
   "metadata": {
    "collapsed": true,
    "jupyter": {
     "outputs_hidden": true
    }
   },
   "outputs": [],
   "source": []
  },
  {
   "cell_type": "markdown",
   "metadata": {},
   "source": [
    "### Question 5\n",
    "Catégoriser les outliers de la population du label ==> \n",
    "Proposer un petit script pour visualiser les outliers sur la variable count.\n",
    "Proposer une méthode pour filtrer ces données anormales (Par exemple en utilisant la variance de la distribution). Combien d'outliers à-t-on filtré ?"
   ]
  },
  {
   "cell_type": "code",
   "execution_count": null,
   "metadata": {
    "collapsed": true,
    "jupyter": {
     "outputs_hidden": true
    }
   },
   "outputs": [],
   "source": []
  },
  {
   "cell_type": "markdown",
   "metadata": {},
   "source": [
    "### Question 6\n",
    "Etudier les corrélations entre les différentes variables grâce à la fonction, Quelles variables sont très corrélées ? Visualiser ces corrélations grâce à la fonction heatmap de seaborn."
   ]
  },
  {
   "cell_type": "code",
   "execution_count": null,
   "metadata": {
    "collapsed": true,
    "jupyter": {
     "outputs_hidden": true
    }
   },
   "outputs": [],
   "source": []
  },
  {
   "cell_type": "markdown",
   "metadata": {},
   "source": [
    "### Question 7 et bonus\n"
   ]
  },
  {
   "cell_type": "code",
   "execution_count": null,
   "metadata": {
    "collapsed": true,
    "jupyter": {
     "outputs_hidden": true
    }
   },
   "outputs": [],
   "source": []
  },
  {
   "cell_type": "markdown",
   "metadata": {},
   "source": [
    "## Partie 2 : Modélisation"
   ]
  },
  {
   "cell_type": "markdown",
   "metadata": {},
   "source": [
    "### Question 1 \n",
    "Verifier votre dataset et si besoin, créer de nouvelles features, verifier leur type et supprimer les variables inutiles."
   ]
  },
  {
   "cell_type": "code",
   "execution_count": null,
   "metadata": {
    "collapsed": true,
    "jupyter": {
     "outputs_hidden": true
    }
   },
   "outputs": [],
   "source": []
  },
  {
   "cell_type": "markdown",
   "metadata": {},
   "source": [
    "### Question 2 \n",
    "Randomiser les données et séparer le jeu de données. Verifier la taille de vos 2 sous ensembles train / test."
   ]
  },
  {
   "cell_type": "code",
   "execution_count": null,
   "metadata": {
    "collapsed": true,
    "jupyter": {
     "outputs_hidden": true
    }
   },
   "outputs": [],
   "source": []
  },
  {
   "cell_type": "markdown",
   "metadata": {},
   "source": [
    "### Question 3\n",
    "Tester un premier modèle simple : la régression linéaire. \n",
    "Choisissez votre metrique et analyser les résultats. Faire un graphe. \n",
    "\n",
    "**BONUS** : Utiliser la librarie statsmodels et afficher un summary de la régression."
   ]
  },
  {
   "cell_type": "code",
   "execution_count": null,
   "metadata": {
    "collapsed": true,
    "jupyter": {
     "outputs_hidden": true
    }
   },
   "outputs": [],
   "source": []
  },
  {
   "cell_type": "markdown",
   "metadata": {},
   "source": [
    "### Question 4 : Sélection de modèle\n",
    "Choisir les modèles à tester. \n",
    "Effectuer un GridSearch et une cross-validation (avec K=5) pour chacun des modèles choisi.\n",
    "\n",
    "Afficher les meilleurs paramètres pour chacun des modèles ainsi que les résultats sur le sous ensemble train. "
   ]
  },
  {
   "cell_type": "markdown",
   "metadata": {},
   "source": [
    "** Cross-Validation for Linear Regression **"
   ]
  },
  {
   "cell_type": "code",
   "execution_count": null,
   "metadata": {
    "collapsed": true,
    "jupyter": {
     "outputs_hidden": true
    }
   },
   "outputs": [],
   "source": []
  },
  {
   "cell_type": "markdown",
   "metadata": {},
   "source": [
    "** GridSearch for Ridge Regression **"
   ]
  },
  {
   "cell_type": "code",
   "execution_count": null,
   "metadata": {
    "collapsed": true,
    "jupyter": {
     "outputs_hidden": true
    }
   },
   "outputs": [],
   "source": []
  },
  {
   "cell_type": "markdown",
   "metadata": {},
   "source": [
    "** GridSearch for Lasso Regression **"
   ]
  },
  {
   "cell_type": "code",
   "execution_count": null,
   "metadata": {
    "collapsed": true,
    "jupyter": {
     "outputs_hidden": true
    }
   },
   "outputs": [],
   "source": []
  },
  {
   "cell_type": "markdown",
   "metadata": {},
   "source": [
    "** GridSearch for Random Forest **"
   ]
  },
  {
   "cell_type": "code",
   "execution_count": null,
   "metadata": {
    "collapsed": true,
    "jupyter": {
     "outputs_hidden": true
    }
   },
   "outputs": [],
   "source": []
  },
  {
   "cell_type": "markdown",
   "metadata": {},
   "source": [
    "** GridSearch for Gradient Boosting **"
   ]
  },
  {
   "cell_type": "markdown",
   "metadata": {},
   "source": [
    "### Question 5 : Conclusion\n",
    "Identifier le meilleur modèle et ré-entrainer le modèle avec ses paramètres optimaux. \n",
    "\n",
    "Afficher les résultats sur le sous ensemble de test."
   ]
  },
  {
   "cell_type": "code",
   "execution_count": null,
   "metadata": {
    "collapsed": true,
    "jupyter": {
     "outputs_hidden": true
    }
   },
   "outputs": [],
   "source": []
  }
 ],
 "metadata": {
  "anaconda-cloud": {},
  "kernelspec": {
   "display_name": "Python 3",
   "language": "python",
   "name": "python3"
  },
  "language_info": {
   "codemirror_mode": {
    "name": "ipython",
    "version": 3
   },
   "file_extension": ".py",
   "mimetype": "text/x-python",
   "name": "python",
   "nbconvert_exporter": "python",
   "pygments_lexer": "ipython3",
   "version": "3.8.3"
  }
 },
 "nbformat": 4,
 "nbformat_minor": 4
}
